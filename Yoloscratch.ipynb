{
  "nbformat": 4,
  "nbformat_minor": 0,
  "metadata": {
    "colab": {
      "name": "Yoloscratch.ipynb",
      "provenance": [],
      "authorship_tag": "ABX9TyN/2gsGVeVCe2PRXjPb3buX",
      "include_colab_link": true
    },
    "kernelspec": {
      "name": "python3",
      "display_name": "Python 3"
    }
  },
  "cells": [
    {
      "cell_type": "markdown",
      "metadata": {
        "id": "view-in-github",
        "colab_type": "text"
      },
      "source": [
        "<a href=\"https://colab.research.google.com/github/SAR-bang/ConvolutionNN/blob/master/Yoloscratch.ipynb\" target=\"_parent\"><img src=\"https://colab.research.google.com/assets/colab-badge.svg\" alt=\"Open In Colab\"/></a>"
      ]
    },
    {
      "cell_type": "code",
      "metadata": {
        "id": "gbQhxePcLK7c",
        "colab_type": "code",
        "colab": {}
      },
      "source": [
        "# Autonomous Driving Car Detection\n",
        "\n",
        "# using yolo algorithm where a image is passed to cnn model\n"
      ],
      "execution_count": 1,
      "outputs": []
    },
    {
      "cell_type": "code",
      "metadata": {
        "id": "QkQYeX93L1Am",
        "colab_type": "code",
        "colab": {}
      },
      "source": [
        "# required libraries\n"
      ],
      "execution_count": 2,
      "outputs": []
    },
    {
      "cell_type": "code",
      "metadata": {
        "id": "qsGfZ-gqMBvB",
        "colab_type": "code",
        "colab": {}
      },
      "source": [
        "import matplotlib.pyplot as plt\n",
        "from matplotlib.pyplot import imshow\n",
        "import numpy as np\n",
        "import tensorflow as tf\n",
        "import PIL\n",
        "import tensorflow as tf\n",
        "from keras import backend as keras"
      ],
      "execution_count": 3,
      "outputs": []
    },
    {
      "cell_type": "code",
      "metadata": {
        "id": "VqUpn15JMg_8",
        "colab_type": "code",
        "colab": {}
      },
      "source": [
        ""
      ],
      "execution_count": null,
      "outputs": []
    }
  ]
}